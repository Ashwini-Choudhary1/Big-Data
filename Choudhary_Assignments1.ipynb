{
  "cells": [
    {
      "cell_type": "markdown",
      "metadata": {
        "id": "g2CseV5GVRf1"
      },
      "source": [
        "## Assigments 1.1\n",
        "\n",
        "This first part of the assignments is based on the iris dataset (https://en.wikipedia.org/wiki/Iris_flower_data_set)"
      ]
    },
    {
      "cell_type": "code",
      "execution_count": 38,
      "metadata": {
        "colab": {
          "base_uri": "https://localhost:8080/"
        },
        "id": "DW2tunavVRf3",
        "outputId": "40fa1bae-f6f1-4866-9221-7782e4f70e83"
      },
      "outputs": [
        {
          "output_type": "stream",
          "name": "stdout",
          "text": [
            "There are 4 features, whose names are: \n",
            "['sepal length (cm)', 'sepal width (cm)', 'petal length (cm)', 'petal width (cm)']\n",
            "\n",
            "There are 3 classes to predict, whose names are: \n",
            "['setosa' 'versicolor' 'virginica']\n",
            "\n",
            "There are 150 observations\n"
          ]
        }
      ],
      "source": [
        "import numpy as np\n",
        "import matplotlib.pyplot as plt\n",
        "\n",
        "# importing the data from sklearn\n",
        "from sklearn.datasets import load_iris\n",
        "iris_dataset = load_iris()\n",
        "\n",
        "# extracting the relevant information\n",
        "data = iris_dataset.data\n",
        "data_feature_names = iris_dataset.feature_names\n",
        "target = iris_dataset.target\n",
        "target_names = iris_dataset.target_names\n",
        "\n",
        "print('There are ' + str(len(data_feature_names)) + ' features, whose names are: \\n' + str(data_feature_names))\n",
        "print('\\nThere are ' + str(len(target_names)) + ' classes to predict, whose names are: \\n' + str(target_names))\n",
        "print('\\nThere are ' + str(data.shape[0]) + ' observations')"
      ]
    },
    {
      "cell_type": "markdown",
      "metadata": {
        "id": "VMDvXXEeVRf4"
      },
      "source": [
        "$\\mathbf{Exercise\\, 1.}$ Compute the median, mean and standard deviation for each of the 4 features in the iris dataset (don't use numpy or other pre-defined functions, write your own routine)."
      ]
    },
    {
      "cell_type": "code",
      "execution_count": 39,
      "metadata": {
        "colab": {
          "base_uri": "https://localhost:8080/"
        },
        "id": "8lAqfw3XVRf4",
        "outputId": "dadbb3ba-2561-4179-d823-a9e52a79fd6a"
      },
      "outputs": [
        {
          "output_type": "stream",
          "name": "stdout",
          "text": [
            "median [5.8, 3.0, 4.4, 1.3]\n"
          ]
        }
      ],
      "source": [
        "med=[]\n",
        "def median_n(data):\n",
        "    sorted_data= np.sort(data)\n",
        "    m= (len(data)//2) # Here I learned that we can use \"//\" for division so that result is always in integer.\n",
        "    if m%2==0:\n",
        "        median=(sorted_data[m]+sorted_data[m-1])/2 #if the number of elements are even we take the data from position middle and middle-1 \n",
        "    else:\n",
        "        median= sorted_data[m] #if the number of elements are odd we directly divide by 2 and get the middle positioned element\n",
        "    return median\n",
        "\n",
        "\n",
        "for j in range (len(data_feature_names)): \n",
        "    feature=[data[i][j] for i in range(len(data))] #Extracting the elements\n",
        "    median= median_n(feature) #calling the function \n",
        "    med.append(median)\n",
        "    \n",
        "print(\"median\",med)\n"
      ]
    },
    {
      "cell_type": "code",
      "source": [
        "mea=[]\n",
        "def mean_n(data):\n",
        "    mean_data=sum(data)/len(data)\n",
        "    \n",
        "    return mean_data\n",
        "\n",
        "for j in range (len(data_feature_names)):\n",
        "    feature=[data[i][j] for i in range(len(data))]\n",
        "    mean= mean_n(feature)\n",
        "    mea.append(mean)\n",
        "print(\"Mean\",mea)"
      ],
      "metadata": {
        "colab": {
          "base_uri": "https://localhost:8080/"
        },
        "id": "Na055RArXw5W",
        "outputId": "e609a050-611d-497e-d867-451111b9ddb7"
      },
      "execution_count": 41,
      "outputs": [
        {
          "output_type": "stream",
          "name": "stdout",
          "text": [
            "Mean [5.843333333333335, 3.057333333333334, 3.7580000000000027, 1.199333333333334]\n"
          ]
        }
      ]
    },
    {
      "cell_type": "code",
      "source": [
        "\n",
        "std=[]\n",
        "def std_dev(data, mean):\n",
        "    m= len(data)\n",
        "    var= sum([(x - mean)**2 for x in data]) / m\n",
        "    return var**0.5 \n",
        "\n",
        "\n",
        "for j in range (len(data_feature_names)):\n",
        "    feature=[data[i][j] for i in range(len(data))]\n",
        "    \n",
        "    standard_deviation= std_dev(feature,mean)\n",
        "    std.append(standard_deviation)\n",
        "\n",
        "print(\"Standard Deviation\",std)"
      ],
      "metadata": {
        "colab": {
          "base_uri": "https://localhost:8080/"
        },
        "id": "F-ZtO0z9XsgM",
        "outputId": "b81c917c-2612-4d3a-8bc0-c78436bca5b1"
      },
      "execution_count": 42,
      "outputs": [
        {
          "output_type": "stream",
          "name": "stdout",
          "text": [
            "Standard Deviation [4.716763532574239, 1.9081081963266362, 3.105201728998903, 0.7596926279021594]\n"
          ]
        }
      ]
    },
    {
      "cell_type": "markdown",
      "metadata": {
        "id": "mnlsDAUWVRf5"
      },
      "source": [
        "$\\mathbf{Exercise\\, 2.}$ For each feature, generate 150 Gaussian distributed samples with the same mean and standard_deviation computed in Exercise 1."
      ]
    },
    {
      "cell_type": "code",
      "execution_count": 11,
      "metadata": {
        "colab": {
          "base_uri": "https://localhost:8080/"
        },
        "id": "65iEN5NtVRf5",
        "outputId": "9934c802-a704-4504-f3d9-925eacada663"
      },
      "outputs": [
        {
          "output_type": "stream",
          "name": "stdout",
          "text": [
            "[array([5.45611259, 6.06953204, 6.19863317, 5.82732309, 5.23953932,\n",
            "       5.10185741, 5.2119258 , 6.98080829, 5.86617942, 4.72322704,\n",
            "       5.02364664, 4.36129284, 5.34570976, 5.10639782, 4.52382253,\n",
            "       5.47508875, 5.83264584, 5.3143141 , 7.47568371, 7.06102811,\n",
            "       4.92701757, 5.58260707, 6.27068062, 5.55312636, 5.63983696,\n",
            "       6.16707563, 6.71274938, 5.2470363 , 5.68106581, 5.16290738,\n",
            "       5.80547017, 6.3504711 , 6.01418045, 6.30404877, 4.18754923,\n",
            "       7.33996331, 5.14838156, 6.32803612, 5.63013375, 5.05837488,\n",
            "       6.97752595, 5.61094582, 6.10632929, 5.40145155, 5.1787341 ,\n",
            "       5.45241169, 6.11677961, 6.65093409, 5.72865221, 5.94224223,\n",
            "       5.70232718, 5.2357645 , 5.72186881, 7.7896617 , 6.31189691,\n",
            "       4.8661616 , 6.27861132, 8.04197004, 7.17863542, 5.5059863 ,\n",
            "       4.87592608, 6.39575119, 6.80120898, 5.87135311, 6.92382229,\n",
            "       5.39022158, 5.09426635, 6.26656339, 5.36664841, 4.60675081,\n",
            "       6.03377972, 5.18535324, 4.2127494 , 4.75512487, 4.8257355 ,\n",
            "       6.04347953, 4.7735701 , 5.96464826, 6.58106426, 5.04191281,\n",
            "       6.86527234, 5.97070035, 6.44939838, 5.23944946, 6.05815572,\n",
            "       7.16359168, 5.61728442, 6.98618801, 5.18380273, 5.33413393,\n",
            "       5.7131339 , 6.87051974, 5.43553118, 5.69977977, 5.67755693,\n",
            "       5.41359157, 5.67099874, 6.27366997, 4.47288677, 4.96209775,\n",
            "       7.66394174, 5.6747686 , 7.91647152, 5.48380877, 6.22348145,\n",
            "       6.0074897 , 4.17278011, 6.3917725 , 6.09589921, 6.17370953,\n",
            "       5.04022916, 5.77236412, 6.21439096, 6.72802259, 6.59414719,\n",
            "       7.44581821, 5.15969317, 5.9435051 , 5.70680137, 5.06135724,\n",
            "       5.30230188, 6.91683111, 5.43334487, 6.29171221, 5.42851802,\n",
            "       6.61814318, 6.89839575, 7.918634  , 7.32893717, 7.8293684 ,\n",
            "       5.60376073, 6.19031197, 7.47843723, 4.91912712, 5.58660466,\n",
            "       5.25073725, 6.75745003, 6.2699444 , 5.22416973, 4.25920836,\n",
            "       7.00233433, 7.17751129, 5.66935157, 5.91982664, 5.41337135,\n",
            "       5.64773752, 4.90658335, 4.87624474, 5.27318951, 5.7320115 ]), array([3.01622282, 2.93559943, 3.26809836, 3.33097451, 3.16053006,\n",
            "       2.79241587, 3.36834352, 3.09180894, 3.17242859, 3.0911402 ,\n",
            "       2.71727079, 3.50792427, 2.69455279, 3.03584647, 3.66313869,\n",
            "       2.65611932, 2.77433216, 2.72784661, 2.77674562, 3.12540504,\n",
            "       3.16960989, 2.91191727, 3.74359508, 3.35727358, 3.47531659,\n",
            "       2.61013272, 2.19828245, 2.8099849 , 3.33451484, 3.12033344,\n",
            "       2.481113  , 2.96937908, 3.02160676, 2.87281095, 2.43355675,\n",
            "       2.94473947, 3.46715327, 2.74993201, 3.48062492, 3.23479599,\n",
            "       3.09317183, 3.49235014, 2.79604204, 2.72683208, 4.04284511,\n",
            "       3.0739181 , 2.53240621, 3.01106602, 2.82664825, 2.18972892,\n",
            "       3.63183522, 3.61100774, 3.11238761, 3.75205797, 2.83330269,\n",
            "       3.24621476, 3.46850004, 3.17882888, 3.23361233, 2.57490934,\n",
            "       3.31929407, 2.37089714, 3.22743823, 2.91969073, 3.37519113,\n",
            "       3.14368238, 2.63652476, 3.3891479 , 3.43370184, 3.52587655,\n",
            "       3.03149502, 2.86318233, 3.23836833, 2.41093088, 2.53895203,\n",
            "       3.04172143, 3.22841675, 2.21709367, 3.40942481, 2.56157734,\n",
            "       2.64912308, 2.84784414, 3.42282597, 3.85360194, 3.12880575,\n",
            "       2.25480534, 2.37611908, 3.30502289, 3.2180042 , 2.477361  ,\n",
            "       3.35318002, 2.38670021, 3.07020169, 2.22246744, 2.80802974,\n",
            "       3.03543142, 2.47576452, 3.00761535, 3.98348816, 2.4808988 ,\n",
            "       3.009543  , 2.66975254, 3.57125507, 2.73749236, 3.42602596,\n",
            "       3.80470576, 4.09814326, 3.66254801, 3.2815257 , 3.30124667,\n",
            "       3.04614779, 2.8681523 , 3.59737481, 3.26455481, 3.10008855,\n",
            "       3.2464629 , 3.08695448, 3.27450372, 2.52096963, 2.95887404,\n",
            "       3.07955347, 2.96850483, 3.59081241, 2.95868854, 3.34223996,\n",
            "       3.72101572, 3.28980753, 3.42578745, 3.12332308, 1.80763749,\n",
            "       2.65656395, 2.71439651, 3.04636545, 3.03002564, 2.40924843,\n",
            "       2.469653  , 3.19047752, 2.86473914, 2.51275148, 3.10046892,\n",
            "       2.79676555, 3.85258721, 2.61763881, 3.52886249, 2.61307996,\n",
            "       3.01620147, 2.63078968, 3.28567154, 3.45842454, 2.49938417]), array([ 1.11449332,  4.85446064,  3.70031716,  3.85189439,  2.39987088,\n",
            "        3.66279404,  3.62017297,  2.47179706,  5.65099293,  6.6494487 ,\n",
            "        4.38989933,  1.6497828 ,  3.63858587,  6.24683135,  2.4764635 ,\n",
            "        4.89849323,  5.47875843,  4.42829175,  7.81328124,  3.28018646,\n",
            "        1.30674286,  0.16488784,  2.41178542,  1.04321159,  0.65669447,\n",
            "        4.74489696,  3.88672105,  3.9287444 ,  7.4902196 ,  6.28930466,\n",
            "        1.97558723,  5.17340125,  6.1377829 ,  2.6089803 ,  1.15487236,\n",
            "        8.99878774,  2.81936656,  4.33162371,  7.95838811,  5.58942202,\n",
            "        4.26799933,  1.84786486,  4.36179955,  2.25132643,  4.41927881,\n",
            "        4.88147692,  4.97664422,  6.59179271,  4.93571393,  4.88681242,\n",
            "        1.72326233,  3.46334488,  0.35593867,  6.34932563,  3.68050186,\n",
            "        2.63876999,  4.0503643 ,  1.36800002,  4.51726622,  3.81458731,\n",
            "        4.1461371 ,  5.71544456,  3.46705794,  4.94605445,  1.09040268,\n",
            "        4.59010693,  5.20640362,  7.2638156 ,  3.63142443,  2.41726662,\n",
            "        2.41393907,  3.1807773 ,  5.48431038,  3.31024614,  3.64276687,\n",
            "        4.41266524,  2.05745862,  6.34431723,  5.3432524 ,  2.15295829,\n",
            "        6.93436192,  2.89567447,  0.31380188,  5.36903897,  0.59896037,\n",
            "        4.051245  ,  5.15294804,  2.94467636,  2.64770348,  5.01887751,\n",
            "        3.45376737,  4.15082012,  4.06463994,  2.79264134,  3.82050226,\n",
            "        5.02125578,  3.23609592,  4.63706141,  4.09974001,  4.17356174,\n",
            "        4.01737618,  3.89447201,  4.13383053,  3.10647302,  6.02783788,\n",
            "       -0.20136236,  2.61841635,  7.12870029,  4.07457683,  4.25771796,\n",
            "        2.99752264,  5.77855308,  3.62750657,  5.50975401,  2.51126122,\n",
            "        4.69998715,  3.68003707,  6.69603133,  4.52983481,  4.06172706,\n",
            "        4.37537891,  3.65832168,  0.97674158,  2.29716402,  3.29763917,\n",
            "        3.49985648,  2.28639776,  6.25698777,  4.63368035,  4.24478428,\n",
            "        6.28635477,  1.46035409,  5.83021304,  3.05974833,  2.7164885 ,\n",
            "        2.18412245,  2.11422725,  5.24168041,  5.09731776,  4.62244068,\n",
            "        2.54464432,  2.78531947,  1.85968845,  1.54989608,  4.28462469,\n",
            "        3.17361192,  5.15919016,  7.67812043,  5.48365491,  3.51024059]), array([ 0.56787792,  0.84677031,  0.16398273,  2.14707016,  2.86018572,\n",
            "        1.08329358,  1.65573985,  0.7938734 ,  2.23021829,  0.46399733,\n",
            "        0.95518995,  1.27685077,  2.0535405 ,  1.38344326,  0.90507923,\n",
            "        0.90849434,  1.59810746, -0.06657699, -0.19684855,  0.41883759,\n",
            "        1.28929571,  0.65627585,  0.66981964,  0.13871411,  0.62168441,\n",
            "       -0.26395012,  1.46105304,  0.70142984,  0.88550428,  1.60364933,\n",
            "        0.79337337,  1.97451077,  1.11673132,  0.24525225,  0.3448809 ,\n",
            "        0.68682606,  0.86988134,  1.55832626,  1.41518722,  1.28855808,\n",
            "        0.6135699 ,  1.4782174 ,  1.55932097,  1.76270053,  1.94122558,\n",
            "        0.17288745,  0.95510462,  1.35313269,  2.86185201,  0.60790544,\n",
            "        1.86286557,  1.31880637,  2.36830789,  2.06955866,  1.56262103,\n",
            "        2.86019558,  0.64226906,  0.775009  ,  1.05481666,  1.48234244,\n",
            "        1.93471312,  1.11846454,  0.94144574,  3.00783875,  2.06794122,\n",
            "        1.77074958,  1.50713297,  2.00170585,  0.21916597,  1.11775552,\n",
            "        0.94484653,  1.07012587,  1.28056094,  1.96553607,  0.78341205,\n",
            "        1.29237023,  0.78189006,  1.56669384,  1.91183794,  1.6256344 ,\n",
            "        2.25120747,  0.90790581,  1.91180893,  2.10679059, -0.18723933,\n",
            "        1.15157879,  1.91810063,  1.3297074 ,  1.0561609 ,  1.63346071,\n",
            "        1.00647474,  1.65055284,  2.27543855,  1.49496318,  1.88305962,\n",
            "        0.25773568,  1.14189659,  0.78062266,  1.11558167,  1.98562101,\n",
            "        1.93283841,  0.09772164,  0.85813285,  0.1909699 ,  1.10976243,\n",
            "        1.28274788,  1.61815745,  1.50912421,  0.06955208,  1.89338724,\n",
            "        1.69754508,  0.4750517 ,  0.29670922,  1.14273166,  1.48270732,\n",
            "        1.02649636,  0.63750758,  1.48079369,  0.72249278,  0.02786592,\n",
            "        1.74808131,  1.60382755,  2.04825975,  2.68939032,  1.06173771,\n",
            "        0.50952201,  1.55130159,  1.43377319,  0.52135422,  1.70823352,\n",
            "       -0.54224521,  1.88254753,  1.2184916 ,  1.08942398,  0.92497128,\n",
            "        2.08704277,  1.61161454,  1.04919056,  2.26329178,  0.98614213,\n",
            "       -0.47971134,  0.86903242,  0.88120222,  0.74534819,  1.62310013,\n",
            "        1.93927476,  1.59157466,  2.33250009,  1.79474964,  0.55160476])]\n"
          ]
        }
      ],
      "source": [
        "import numpy as np\n",
        "\n",
        "def generate_gaussian_samples(mean, std_dev, sample_size):\n",
        "    return np.random.normal(mean, std_dev, sample_size)\n",
        "\n",
        "samples = []\n",
        "\n",
        "for j in range (len(data_feature_names)):\n",
        "    feature=[data[i][j] for i in range(len(data))]\n",
        "    mean= mean_n(feature)\n",
        "    standard_deviation= std_dev(feature,mean)\n",
        "    samples.append(generate_gaussian_samples(mean, standard_deviation, 150))\n",
        "print(samples)"
      ]
    },
    {
      "cell_type": "markdown",
      "metadata": {
        "id": "7lSqoCamVRf5"
      },
      "source": [
        "$\\mathbf{Exercise\\, 3.}$ Compute the histogram (with 30 bins) of the distribution of the generate samples and plot it together with the histogram of the original data. The histograms must be plotted on the same plot. Comment on the difference between simulations and real data: for which feature the distributions are most different? What is the reason? "
      ]
    },
    {
      "cell_type": "code",
      "execution_count": 12,
      "metadata": {
        "colab": {
          "base_uri": "https://localhost:8080/",
          "height": 1000
        },
        "id": "USzt3W_VVRf6",
        "outputId": "314f7e93-4a42-4c00-820a-ddf78d8a6395"
      },
      "outputs": [
        {
          "output_type": "display_data",
          "data": {
            "text/plain": [
              "<Figure size 432x288 with 1 Axes>"
            ],
            "image/png": "[encoded data removed]"
          },
          "metadata": {
            "needs_background": "light"
          }
        },
        {
          "output_type": "display_data",
          "data": {
            "text/plain": [
              "<Figure size 432x288 with 1 Axes>"
            ],
            "image/png": "[encoded data removed]"
          },
          "metadata": {
            "needs_background": "light"
          }
        },
        {
          "output_type": "display_data",
          "data": {
            "text/plain": [
              "<Figure size 432x288 with 1 Axes>"
            ],
            "image/png": "[encoded data removed]"
          },
          "metadata": {
            "needs_background": "light"
          }
        },
        {
          "output_type": "display_data",
          "data": {
            "text/plain": [
              "<Figure size 432x288 with 1 Axes>"
            ],
            "image/png": "[encoded data removed]"
          },
          "metadata": {
            "needs_background": "light"
          }
        }
      ],
      "source": [
        "for j in range(4):\n",
        "    feature = [data[i][j] for i in range(len(data))]\n",
        "    feature_samples = samples[j]\n",
        "    plt.hist(feature, bins=30, alpha=0.5, label='Original Data')\n",
        "    plt.hist(feature_samples, bins=30, alpha=0.5, label='Samples')\n",
        "    plt.legend(loc='upper right')\n",
        "    plt.title(data_feature_names[j])\n",
        "    plt.show()"
      ]
    },
    {
      "cell_type": "markdown",
      "metadata": {
        "id": "5WikAOLAVRf6"
      },
      "source": [
        "The difference between simulations and real data can depend on the feature. Some features might have distributions that are similar between the original data and the generated samples, while others might have more noticeable differences.\n",
        "\n",
        "The reason for these differences can be due to the presence of outliers or non-Gaussian distributions in the original data that are not captured by the Gaussian distributions generated from the mean and standard deviation. Additionally, the sample size of 150 is relatively small, which can lead to higher variability in the generated samples compared to the original data.\n"
      ]
    },
    {
      "cell_type": "markdown",
      "metadata": {
        "id": "CussW47XVRf6"
      },
      "source": [
        "$\\mathbf{Exercise\\, 4.}$ Estimate and plot the probability density function of the feature $\\mbox{petal length (cm)}$.\n"
      ]
    },
    {
      "cell_type": "code",
      "execution_count": 13,
      "metadata": {
        "colab": {
          "base_uri": "https://localhost:8080/",
          "height": 295
        },
        "id": "hlaFvgkKVRf6",
        "outputId": "df0ecbde-0c31-42b6-9d5a-adb0282fa28c"
      },
      "outputs": [
        {
          "output_type": "display_data",
          "data": {
            "text/plain": [
              "<Figure size 432x288 with 1 Axes>"
            ],
            "image/png": "[encoded data removed]"
          },
          "metadata": {
            "needs_background": "light"
          }
        }
      ],
      "source": [
        "petal_length = data[:, 2]\n",
        "bins = 20\n",
        "n, bins, patches = plt.hist(petal_length, bins=bins, density=True, alpha=0.5, label='Histogram')\n",
        "bin_centers = 0.5 * (bins[:-1] + bins[1:])\n",
        "pdf = n / sum(n)\n",
        "plt.plot(bin_centers, pdf, 'r', label='PDF curve')\n",
        "plt.xlabel('Petal Length (cm)')\n",
        "plt.ylabel('Density')\n",
        "plt.title('PDF of Petal Length')\n",
        "plt.legend()\n",
        "plt.show()\n"
      ]
    },
    {
      "cell_type": "markdown",
      "metadata": {
        "id": "ic3RGU1PVRf7"
      },
      "source": [
        "## Assigment 1.2\n",
        "\n",
        "$\\mathbf{Exercise\\, 1.}$ Create a linear benchmark, where the dimension of the input data $X$ is 2, and the dimension of the output data $y$ is 1. Choose the amount of noise and sample size.\n",
        "\n",
        "Evaluate the prediction metrics for the following regression methods:\n",
        "\n",
        "- Linear regression\n",
        "- Support Vector Regression with RBF kernel\n",
        "- Decision Tree Regression\n"
      ]
    },
    {
      "cell_type": "code",
      "execution_count": 14,
      "metadata": {
        "id": "_oeJJWKoVRf7"
      },
      "outputs": [],
      "source": [
        "import numpy as np\n",
        "import random\n",
        "\n",
        "# sample size and noise level\n",
        "sample_size = 100\n",
        "noise_level = 0.1\n",
        "\n",
        "# input data with dimension 2\n",
        "X = np.random.rand(sample_size, 2)\n",
        "\n",
        "\n",
        "#the weights and bias are the parameters that determine the linear relationship \n",
        "#between the input data X and the output data y. \n",
        "#The weights determine the slope of the line, while the bias determines the intercept.\n",
        "\n",
        "weights = np.random.rand(2)\n",
        "bias = np.random.rand()\n",
        "\n",
        "# Generate output data with dimension 1\n",
        "noise = noise_level * np.random.randn(sample_size)\n",
        "y = np.dot(X, weights) + bias \n",
        "y_noise= y+noise #adding the noise to y"
      ]
    },
    {
      "cell_type": "code",
      "execution_count": 15,
      "metadata": {
        "colab": {
          "base_uri": "https://localhost:8080/"
        },
        "id": "bOA6kLhcVRf7",
        "outputId": "02443f73-6e96-4ab7-8dd0-15537048d427"
      },
      "outputs": [
        {
          "output_type": "execute_result",
          "data": {
            "text/plain": [
              "array([1.48281092, 1.50157408, 2.38832655, 1.84614164, 1.87704744,\n",
              "       1.78913362, 1.71155416, 1.93381392, 1.24249682, 2.01413117,\n",
              "       2.0709316 , 1.75843057, 1.70726832, 1.81660692, 1.45217015,\n",
              "       1.8366866 , 1.72467822, 2.30916523, 1.47456225, 1.84531178,\n",
              "       1.88465956, 1.73569792, 1.59410977, 1.30763348, 1.78148844,\n",
              "       1.70674151, 1.83316764, 1.51188156, 1.90391916, 1.10875261,\n",
              "       1.82474206, 1.64044114, 1.53826122, 2.18259621, 1.7234143 ,\n",
              "       1.38661526, 1.54806915, 1.21601586, 1.71210166, 1.40464001,\n",
              "       1.32132474, 1.75856196, 1.52080256, 1.96217064, 1.80994121,\n",
              "       1.48533698, 1.4748913 , 1.14036703, 1.06929468, 1.54748312,\n",
              "       1.48876622, 1.57794056, 1.32890458, 2.18306312, 1.87970791,\n",
              "       1.26091036, 1.82377734, 1.17125414, 1.68302743, 1.83376205,\n",
              "       1.20617982, 1.52210613, 1.89655389, 1.8613118 , 1.337965  ,\n",
              "       1.73482405, 1.70307134, 1.32720526, 1.41208198, 1.75078575,\n",
              "       1.69972441, 2.22757223, 1.19027956, 2.10911364, 1.63721885,\n",
              "       1.94165646, 1.68991416, 1.93388681, 2.1080173 , 1.05641381,\n",
              "       2.16706896, 1.84724268, 1.81435582, 1.61360029, 1.94657865,\n",
              "       2.14974117, 1.66344517, 1.2332981 , 1.72692544, 2.30973751,\n",
              "       1.82660284, 1.60709709, 1.5847417 , 1.51086558, 1.21975689,\n",
              "       1.52876299, 1.85052612, 2.02086525, 1.24091486, 1.9394642 ])"
            ]
          },
          "metadata": {},
          "execution_count": 15
        }
      ],
      "source": [
        "y"
      ]
    },
    {
      "cell_type": "code",
      "execution_count": 16,
      "metadata": {
        "colab": {
          "base_uri": "https://localhost:8080/"
        },
        "id": "3dTKyYKjVRf7",
        "outputId": "0a7baf19-1f04-4c04-b762-4303e86b584d"
      },
      "outputs": [
        {
          "output_type": "execute_result",
          "data": {
            "text/plain": [
              "array([1.50151984, 1.49919158, 2.44977944, 1.97687354, 2.0868816 ,\n",
              "       1.67358606, 1.56357083, 1.83389255, 1.21409337, 2.09061099,\n",
              "       2.15072518, 1.89443586, 1.36565074, 1.73413849, 1.37050461,\n",
              "       1.89873161, 1.71211614, 2.38067826, 1.49792588, 1.86350609,\n",
              "       2.1336685 , 1.88302259, 1.54561409, 1.22758572, 1.70871101,\n",
              "       1.55541747, 2.02398126, 1.55218239, 1.92539988, 1.16995272,\n",
              "       1.71521278, 1.6770278 , 1.60229945, 2.12117378, 1.6209731 ,\n",
              "       1.30776815, 1.60645629, 1.30674301, 1.52690373, 1.44625193,\n",
              "       1.35280561, 1.88089574, 1.55369623, 1.93492709, 1.65752946,\n",
              "       1.57433895, 1.48647675, 1.21874691, 1.10435391, 1.64078677,\n",
              "       1.66034188, 1.53091667, 1.40144982, 2.15757922, 1.82246949,\n",
              "       1.09146063, 1.69838663, 1.18520932, 1.66057606, 1.89094369,\n",
              "       1.33324337, 1.64424382, 2.00770327, 1.61330245, 1.33757988,\n",
              "       1.57466292, 1.44395184, 1.24024612, 1.29809268, 1.81884427,\n",
              "       1.71877375, 2.20817859, 1.29249848, 2.18369234, 1.53160484,\n",
              "       1.94425712, 1.64537024, 2.06028076, 2.15491967, 1.12828289,\n",
              "       1.99245539, 1.80260471, 1.87375122, 1.50890785, 1.98781158,\n",
              "       2.192534  , 1.87283475, 1.35653095, 1.65084742, 2.39013231,\n",
              "       1.81282878, 1.56945602, 1.52756878, 1.57727146, 1.07187647,\n",
              "       1.59684793, 1.78969926, 1.86932005, 1.29181148, 1.94454764])"
            ]
          },
          "metadata": {},
          "execution_count": 16
        }
      ],
      "source": [
        "y_noise"
      ]
    },
    {
      "cell_type": "code",
      "execution_count": 17,
      "metadata": {
        "colab": {
          "base_uri": "https://localhost:8080/"
        },
        "id": "LyvW307YVRf7",
        "outputId": "52d4cce7-3a5f-4132-9b5b-9cb2d6c87d47"
      },
      "outputs": [
        {
          "output_type": "stream",
          "name": "stdout",
          "text": [
            "Estimated weights: [0.67885842 0.85839502]\n",
            "Estimated bias: 0.9292878749668927\n"
          ]
        }
      ],
      "source": [
        "from sklearn.linear_model import LinearRegression\n",
        "\n",
        "# Fit the linear regression model to the data\n",
        "reg = LinearRegression().fit(X, y)\n",
        "\n",
        "# Get the estimated weights and bias\n",
        "weights = reg.coef_\n",
        "bias = reg.intercept_\n",
        "\n",
        "print(\"Estimated weights:\", weights)\n",
        "print(\"Estimated bias:\", bias)\n"
      ]
    },
    {
      "cell_type": "code",
      "execution_count": 18,
      "metadata": {
        "id": "-M1eAJrgVRf8"
      },
      "outputs": [],
      "source": [
        "y_pred_lr= reg.predict(X) #prediction for linear regression"
      ]
    },
    {
      "cell_type": "code",
      "execution_count": 19,
      "metadata": {
        "id": "aotODANJVRf8"
      },
      "outputs": [],
      "source": [
        "from sklearn.svm import SVR\n",
        "from sklearn.tree import DecisionTreeRegressor\n",
        "\n",
        "\n",
        "svr_rbf = SVR(kernel='rbf', C=1e3, gamma=0.1)\n",
        "# fit the model by using \n",
        "y_rbf = svr_rbf.fit(X, y)\n",
        "# predict by using\n",
        "y_pred_rbf=y_rbf.predict(X)\n",
        "\n",
        "\n",
        "tree = DecisionTreeRegressor(max_depth=3)\n",
        "# fit the model by using \n",
        "y_tree = tree.fit(X, y)\n",
        "# predict by using\n",
        "y_pred_tree=y_tree.predict(X)\n"
      ]
    },
    {
      "cell_type": "markdown",
      "metadata": {
        "id": "WeS1Mn3bVRf8"
      },
      "source": [
        "$\\mathbf{Exercise\\, 2.}$ Create a testing dataset and assess the testing metrics for the models."
      ]
    },
    {
      "cell_type": "code",
      "execution_count": 20,
      "metadata": {
        "id": "QshnOonQVRf8"
      },
      "outputs": [],
      "source": [
        "#sample size and noise level\n",
        "sample_size = 100\n",
        "noise_level = 0.1\n",
        "\n",
        "# Test data with dimension 2\n",
        "X_test = np.random.rand(sample_size, 2)\n",
        "\n",
        "#weights and bias\n",
        "weights = np.random.rand(2)\n",
        "bias = np.random.rand()\n",
        "\n",
        "#output data with dimension 1\n",
        "noise = noise_level * np.random.randn(sample_size)\n",
        "y_test = np.dot(X_test, weights) + bias\n",
        "y_test_noice= y_test+noise #adding the noise"
      ]
    },
    {
      "cell_type": "code",
      "execution_count": 21,
      "metadata": {
        "id": "E4HBs3CdVRf8"
      },
      "outputs": [],
      "source": [
        "y_rbf_pred = svr_rbf.predict(X_test)\n",
        "y_tree_pred = tree.predict(X_test)\n",
        "y_lr_pred = reg.predict(X_test)"
      ]
    },
    {
      "cell_type": "code",
      "execution_count": 22,
      "metadata": {
        "colab": {
          "base_uri": "https://localhost:8080/"
        },
        "id": "KJj3N2-6VRf8",
        "outputId": "a7fc3845-cbab-4c4e-e3ea-c7d8a51447d6"
      },
      "outputs": [
        {
          "output_type": "stream",
          "name": "stdout",
          "text": [
            "Linear Regression - Mean Squared Error:  0.4369601342072133\n",
            "Linear Regression - R2 Score:  -13.6794529554134\n"
          ]
        }
      ],
      "source": [
        "from sklearn.metrics import mean_squared_error, r2_score\n",
        "mse_tree = mean_squared_error(y_test, y_lr_pred)\n",
        "r2_tree = r2_score(y_test, y_lr_pred)\n",
        "print(\"Linear Regression - Mean Squared Error: \", mse_tree)\n",
        "print(\"Linear Regression - R2 Score: \", r2_tree)"
      ]
    },
    {
      "cell_type": "code",
      "execution_count": 23,
      "metadata": {
        "colab": {
          "base_uri": "https://localhost:8080/"
        },
        "id": "XbESsHOFVRf8",
        "outputId": "23c13149-c238-4955-e6f6-cc843d643b98"
      },
      "outputs": [
        {
          "output_type": "stream",
          "name": "stdout",
          "text": [
            "SVR (RBF) - Mean Squared Error:  0.43943071205325035\n",
            "SVR (RBF) - R2 Score:  -13.762450758701306\n"
          ]
        }
      ],
      "source": [
        "from sklearn.metrics import mean_squared_error, r2_score\n",
        "mse_rbf = mean_squared_error(y_test, y_rbf_pred)\n",
        "r2_rbf = r2_score(y_test, y_rbf_pred)\n",
        "print(\"SVR (RBF) - Mean Squared Error: \", mse_rbf)\n",
        "print(\"SVR (RBF) - R2 Score: \", r2_rbf)"
      ]
    },
    {
      "cell_type": "code",
      "execution_count": 24,
      "metadata": {
        "colab": {
          "base_uri": "https://localhost:8080/"
        },
        "id": "1hSDzdq9VRf9",
        "outputId": "f1605134-371e-4cd2-af0f-3bfba2b3999f"
      },
      "outputs": [
        {
          "output_type": "stream",
          "name": "stdout",
          "text": [
            "Decision Tree - Mean Squared Error:  0.4698893513976813\n",
            "Decision Tree - R2 Score:  -14.785693220290373\n"
          ]
        }
      ],
      "source": [
        "mse_tree = mean_squared_error(y_test, y_tree_pred)\n",
        "r2_tree = r2_score(y_test, y_tree_pred)\n",
        "print(\"Decision Tree - Mean Squared Error: \", mse_tree)\n",
        "print(\"Decision Tree - R2 Score: \", r2_tree)"
      ]
    },
    {
      "cell_type": "code",
      "execution_count": 24,
      "metadata": {
        "id": "QeggSy81VRf9"
      },
      "outputs": [],
      "source": []
    },
    {
      "cell_type": "markdown",
      "metadata": {
        "id": "XEkz67KCVRf9"
      },
      "source": [
        "$\\mathbf{Exercise\\, 3.}$ Plot the regression results (training and testing) for each model"
      ]
    },
    {
      "cell_type": "code",
      "execution_count": 25,
      "metadata": {
        "colab": {
          "base_uri": "https://localhost:8080/",
          "height": 265
        },
        "id": "nGJXEMYvVRf9",
        "outputId": "f69d0fad-445a-4b17-daf6-eee7dc0a6747"
      },
      "outputs": [
        {
          "output_type": "display_data",
          "data": {
            "text/plain": [
              "<Figure size 432x288 with 1 Axes>"
            ],
            "image/png": "[encoded data removed]"
          },
          "metadata": {
            "needs_background": "light"
          }
        }
      ],
      "source": [
        "import matplotlib.pyplot as plt\n",
        "\n",
        "plt.scatter(X[:, 0], y, color='red', label='Training data')\n",
        "\n",
        "# Plotting SVR (RBF) predictions for the training data\n",
        "y_rbf_pred = svr_rbf.predict(X)\n",
        "plt.scatter(X[:, 0], y_rbf_pred, color='blue', label='SVR (RBF) predictions')\n",
        "\n",
        "plt.legend()\n",
        "plt.show()\n"
      ]
    },
    {
      "cell_type": "code",
      "execution_count": 26,
      "metadata": {
        "colab": {
          "base_uri": "https://localhost:8080/",
          "height": 279
        },
        "id": "2YAnasuFVRf9",
        "outputId": "0186100a-0a76-4284-cdd8-464495fdeab9"
      },
      "outputs": [
        {
          "output_type": "display_data",
          "data": {
            "text/plain": [
              "<Figure size 432x288 with 1 Axes>"
            ],
            "image/png": "[encoded data removed]"
          },
          "metadata": {
            "needs_background": "light"
          }
        }
      ],
      "source": [
        "import matplotlib.pyplot as plt\n",
        "\n",
        "# Plot the training data\n",
        "plt.scatter(X[:, 0], y, color='red', label='Training data')\n",
        "\n",
        "\n",
        "\n",
        "# Plotting the Decision Tree predictions for the training data\n",
        "plt.scatter(X[:, 0], y_pred_tree, color='green', label='Decision Tree predictions')\n",
        "\n",
        "# Add labels and legends to the plot\n",
        "plt.xlabel('Feature 1')\n",
        "plt.ylabel('Target')\n",
        "plt.legend()\n",
        "\n",
        "# Show the plot\n",
        "plt.show()\n"
      ]
    },
    {
      "cell_type": "code",
      "execution_count": 27,
      "metadata": {
        "colab": {
          "base_uri": "https://localhost:8080/",
          "height": 279
        },
        "id": "6P3I7yuCVRf9",
        "outputId": "4f774bde-d986-4ab7-c2e4-4e7c141e568f"
      },
      "outputs": [
        {
          "output_type": "display_data",
          "data": {
            "text/plain": [
              "<Figure size 432x288 with 1 Axes>"
            ],
            "image/png": "[encoded data removed]"
          },
          "metadata": {
            "needs_background": "light"
          }
        }
      ],
      "source": [
        "# Plot the training data\n",
        "plt.scatter(X[:, 0], y, color='red', label='Training data')\n",
        "\n",
        "\n",
        "\n",
        "# Plot the Linear Regression predictions for the training data\n",
        "plt.scatter(X[:, 0], y_lr_pred, color='black', label='Linear regression')\n",
        "\n",
        "plt.xlabel('Feature 1')\n",
        "plt.ylabel('Target')\n",
        "plt.legend()\n",
        "plt.show()\n"
      ]
    },
    {
      "cell_type": "markdown",
      "metadata": {
        "id": "rMfy2Cp8VRf-"
      },
      "source": [
        "$\\mathbf{Exercise\\, 4.}$ Create a classification benchmark with 3 labels.\n",
        "\n",
        "Evaluate training and testing prediction metrics for the following classification methods:\n",
        "\n",
        "- K-nearest neighbours\n",
        "- Random Forest\n",
        "- Naive Bayes"
      ]
    },
    {
      "cell_type": "code",
      "execution_count": 28,
      "metadata": {
        "collapsed": true,
        "id": "kxVXJ34rVRf-"
      },
      "outputs": [],
      "source": [
        "from sklearn.neighbors import KNeighborsClassifier\n",
        "from sklearn.ensemble import RandomForestClassifier\n",
        "from sklearn.naive_bayes import GaussianNB"
      ]
    },
    {
      "cell_type": "code",
      "execution_count": 29,
      "metadata": {
        "collapsed": true,
        "id": "IoLV9tzhVRf-"
      },
      "outputs": [],
      "source": [
        "import numpy as np\n",
        "from sklearn.model_selection import train_test_split\n",
        "from sklearn.metrics import accuracy_score\n"
      ]
    },
    {
      "cell_type": "code",
      "execution_count": 30,
      "metadata": {
        "collapsed": true,
        "id": "4v8sdiCMVRf-"
      },
      "outputs": [],
      "source": [
        "X = np.random.randn(100,3) #defined the X as it has 100 sample with dimension 3 \n",
        "y = (X[:,0]+X[:,1]+X[:,2] > 0).astype(int) # comparing each element in form of boolean and values will be assigned as (false=0 and True=1)\n",
        "y = np.where(y==1, 0, 1) #Mapping the values"
      ]
    },
    {
      "cell_type": "code",
      "source": [
        "X_train, X_test, y_train, y_test = train_test_split(X, y, test_size=0.3) #splitting the data using train_test_split"
      ],
      "metadata": {
        "id": "5aM7DaMuVmvP"
      },
      "execution_count": 31,
      "outputs": []
    },
    {
      "cell_type": "code",
      "execution_count": 32,
      "metadata": {
        "collapsed": true,
        "id": "hg2qj6J1VRf-"
      },
      "outputs": [],
      "source": [
        "knn= KNeighborsClassifier(n_neighbors=4) #chose neighbours value=4, when I chose neighbours value=5 accuracy improved to 0.933\n",
        "knn.fit(X_train,y_train)\n",
        "y_knn_pred= knn.predict(X_test)"
      ]
    },
    {
      "cell_type": "code",
      "source": [
        "print(\"KNN Metrics:\")\n",
        "print(\"Accuracy\", accuracy_score(y_test,y_knn_pred))"
      ],
      "metadata": {
        "colab": {
          "base_uri": "https://localhost:8080/"
        },
        "id": "G_sN2RQ0VvvA",
        "outputId": "5c10ba0d-5b24-4a65-a059-3752a7ab02d6"
      },
      "execution_count": 33,
      "outputs": [
        {
          "output_type": "stream",
          "name": "stdout",
          "text": [
            "KNN Metrics:\n",
            "Accuracy 0.7666666666666667\n"
          ]
        }
      ]
    },
    {
      "cell_type": "code",
      "source": [
        "rf= RandomForestClassifier(n_estimators=50) #chose number of estimators as 50 and when I chose 100 it showed more accurate results anyway I was experimenting with it.\n",
        "rf.fit(X_train,y_train)\n",
        "y_rf_pred= rf.predict(X_test)"
      ],
      "metadata": {
        "id": "RmhQDVdgVyNm"
      },
      "execution_count": 34,
      "outputs": []
    },
    {
      "cell_type": "code",
      "source": [
        "print(\"Random Forest Metrics:\")\n",
        "print(\"Accuracy\", accuracy_score(y_test,y_rf_pred))"
      ],
      "metadata": {
        "colab": {
          "base_uri": "https://localhost:8080/"
        },
        "id": "T5zt9SgOV0GB",
        "outputId": "56b8ed1b-fc26-4521-80d6-5e04ab683cf7"
      },
      "execution_count": 35,
      "outputs": [
        {
          "output_type": "stream",
          "name": "stdout",
          "text": [
            "Random Forest Metrics:\n",
            "Accuracy 0.7666666666666667\n"
          ]
        }
      ]
    },
    {
      "cell_type": "code",
      "source": [
        "naive_b=GaussianNB()\n",
        "naive_b.fit(X_train,y_train)\n",
        "y_naive_pred=naive_b.predict(X_test)"
      ],
      "metadata": {
        "id": "2jIQbTvwV2Bd"
      },
      "execution_count": 36,
      "outputs": []
    },
    {
      "cell_type": "code",
      "source": [
        "print(\"GaussianNB Metrics:\")\n",
        "print(\"Accuracy\", accuracy_score(y_test,y_naive_pred))"
      ],
      "metadata": {
        "colab": {
          "base_uri": "https://localhost:8080/"
        },
        "id": "gbawXo8eV4FO",
        "outputId": "2c1b585b-c233-43c3-d414-1e1ac67e876c"
      },
      "execution_count": 37,
      "outputs": [
        {
          "output_type": "stream",
          "name": "stdout",
          "text": [
            "GaussianNB Metrics:\n",
            "Accuracy 0.7333333333333333\n"
          ]
        }
      ]
    }
  ],
  "metadata": {
    "kernelspec": {
      "display_name": "Python 3 (ipykernel)",
      "language": "python",
      "name": "python3"
    },
    "language_info": {
      "codemirror_mode": {
        "name": "ipython",
        "version": 3
      },
      "file_extension": ".py",
      "mimetype": "text/x-python",
      "name": "python",
      "nbconvert_exporter": "python",
      "pygments_lexer": "ipython3",
      "version": "3.9.12"
    },
    "colab": {
      "provenance": []
    }
  },
  "nbformat": 4,
  "nbformat_minor": 0
}
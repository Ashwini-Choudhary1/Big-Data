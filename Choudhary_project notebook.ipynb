{
 "cells": [
  {
   "cell_type": "markdown",
   "id": "4faeb3ff",
   "metadata": {},
   "source": [
    "# Project description\n",
    "\n",
    "\n",
    "Ask a buyer to describe their dream home and they probably won't start with basement ceiling height or proximity to an east-west rail line. But the data set from this playground contest proves that price negotiations are influenced by much more than the number of bedrooms or a white picket fence.\n",
    "\n",
    "![](https://storage.googleapis.com/kaggle-competitions/kaggle/5407/media/housesbanner.png)\n",
    "\n",
    "This dataset contains 79 explanatory variables describing almost every aspect of residential homes in Ames, Iowa. "
   ]
  },
  {
   "cell_type": "markdown",
   "id": "a63194d9",
   "metadata": {},
   "source": [
    "**Goal:** It is your job to predict the sales price for each house using everything you have learned so far. If **you use a model not presented in class, you must justify it, explain how it works and describe precisely the role of each of the hyper-parameters**. For each Id in the test set, you must predict the value of the SalePrice variable. \n",
    "\n",
    "**Metric:** Predictions are evaluated on Root-Mean-Squared-Error (RMSE) between the logarithm of the predicted value and the logarithm of the observed sales price. (Taking logs means that errors in predicting expensive houses and cheap houses will affect the result equally.)\n",
    "\n",
    "**Homework submission**: You must upload a zip archive containing 3 files to``lms.univ-cotedazur.fr`:\n",
    "\n",
    "* A `pdf` report describing for each of the selected features the treatment performed\n",
    "* A `jupyter notebook` performing the preprocessing, each step of which is inserted into a sklearn or imblearn pipeline (you must leave traces of notebook executions. The first cell should have the number 1, the second the number 2, etc.)\n",
    "* A `result.csv` should contain your prediction for each of the properties in tthe test set in the the following format:\n",
    "<pre>\n",
    "        Id,SalePrice\n",
    "        1461,169000.9876\n",
    "        1462,187724.1233\n",
    "        1463,175221.1928\n",
    "        etc.\n",
    "</pre>\n",
    "\n",
    "The scale will be as follows:\n",
    "* 8 points on the quality of the preprocessing and its description from the report \n",
    "* 8 points on the quality and correctness of the code contained in the notebook\n",
    "* 4 points on the quality of the model produced"
   ]
  },
  {
   "cell_type": "markdown",
   "id": "cd1dab3d",
   "metadata": {},
   "source": [
    "Here's a brief version of what you'll find in the data description file.\n",
    "\n",
    "* SalePrice - the property's sale price in dollars. This is the target variable that you're trying to predict.\n",
    "* MSSubClass: The building class\n",
    "* MSZoning: The general zoning classification\n",
    "* LotFrontage: Linear feet of street connected to property\n",
    "* LotArea: Lot size in square feet\n",
    "* Street: Type of road access\n",
    "* Alley: Type of alley access\n",
    "* LotShape: General shape of property\n",
    "* LandContour: Flatness of the property\n",
    "* Utilities: Type of utilities available\n",
    "* LotConfig: Lot configuration\n",
    "* LandSlope: Slope of property\n",
    "* Neighborhood: Physical locations within Ames city limits\n",
    "* Condition1: Proximity to main road or railroad\n",
    "* Condition2: Proximity to main road or railroad (if a second is present)\n",
    "* BldgType: Type of dwelling\n",
    "* HouseStyle: Style of dwelling\n",
    "* OverallQual: Overall material and finish quality\n",
    "* OverallCond: Overall condition rating\n",
    "* YearBuilt: Original construction date\n",
    "* YearRemodAdd: Remodel date\n",
    "* RoofStyle: Type of roof\n",
    "* RoofMatl: Roof material\n",
    "* Exterior1st: Exterior covering on house\n",
    "* Exterior2nd: Exterior covering on house (if more than one material)\n",
    "* MasVnrType: Masonry veneer type\n",
    "* MasVnrArea: Masonry veneer area in square feet\n",
    "* ExterQual: Exterior material quality\n",
    "* ExterCond: Present condition of the material on the exterior\n",
    "* Foundation: Type of foundation\n",
    "* BsmtQual: Height of the basement\n",
    "* BsmtCond: General condition of the basement\n",
    "* BsmtExposure: Walkout or garden level basement walls\n",
    "* BsmtFinType1: Quality of basement finished area\n",
    "* BsmtFinSF1: Type 1 finished square feet\n",
    "* BsmtFinType2: Quality of second finished area (if present)\n",
    "* BsmtFinSF2: Type 2 finished square feet\n",
    "* BsmtUnfSF: Unfinished square feet of basement area\n",
    "* TotalBsmtSF: Total square feet of basement area\n",
    "* Heating: Type of heating\n",
    "* HeatingQC: Heating quality and condition\n",
    "* CentralAir: Central air conditioning\n",
    "* Electrical: Electrical system\n",
    "* 1stFlrSF: First Floor square feet\n",
    "* 2ndFlrSF: Second floor square feet\n",
    "* LowQualFinSF: Low quality finished square feet (all floors)\n",
    "* GrLivArea: Above grade (ground) living area square feet\n",
    "* BsmtFullBath: Basement full bathrooms\n",
    "* BsmtHalfBath: Basement half bathrooms\n",
    "* FullBath: Full bathrooms above grade\n",
    "* HalfBath: Half baths above grade\n",
    "* Bedroom: Number of bedrooms above basement level\n",
    "* Kitchen: Number of kitchens\n",
    "* KitchenQual: Kitchen quality\n",
    "* TotRmsAbvGrd: Total rooms above grade (does not include bathrooms)\n",
    "* Functional: Home functionality rating\n",
    "* Fireplaces: Number of fireplaces\n",
    "* FireplaceQu: Fireplace quality\n",
    "* GarageType: Garage location\n",
    "* GarageYrBlt: Year garage was built\n",
    "* GarageFinish: Interior finish of the garage\n",
    "* GarageCars: Size of garage in car capacity\n",
    "* GarageArea: Size of garage in square feet\n",
    "* GarageQual: Garage quality\n",
    "* GarageCond: Garage condition\n",
    "* PavedDrive: Paved driveway\n",
    "* WoodDeckSF: Wood deck area in square feet\n",
    "* OpenPorchSF: Open porch area in square feet\n",
    "* EnclosedPorch: Enclosed porch area in square feet\n",
    "* 3SsnPorch: Three season porch area in square feet\n",
    "* ScreenPorch: Screen porch area in square feet\n",
    "* PoolArea: Pool area in square feet\n",
    "* PoolQC: Pool quality\n",
    "* Fence: Fence quality\n",
    "* MiscFeature: Miscellaneous feature not covered in other categories\n",
    "* MiscVal: $Value of miscellaneous feature\n",
    "* MoSold: Month Sold\n",
    "* YrSold: Year Sold\n",
    "* SaleType: Type of sale\n",
    "* SaleCondition: Condition of sale\n",
    "\n",
    "more detail about the features on `data_description.txt`files"
   ]
  },
  {
   "cell_type": "code",
   "execution_count": 1,
   "id": "ecc0e2b8",
   "metadata": {
    "ExecuteTime": {
     "end_time": "2022-11-24T10:32:28.816389Z",
     "start_time": "2022-11-24T10:32:28.771189Z"
    }
   },
   "outputs": [
    {
     "name": "stdout",
     "output_type": "stream",
     "text": [
      "1000\n"
     ]
    },
    {
     "data": {
      "text/html": [
       "<div>\n",
       "<style scoped>\n",
       "    .dataframe tbody tr th:only-of-type {\n",
       "        vertical-align: middle;\n",
       "    }\n",
       "\n",
       "    .dataframe tbody tr th {\n",
       "        vertical-align: top;\n",
       "    }\n",
       "\n",
       "    .dataframe thead th {\n",
       "        text-align: right;\n",
       "    }\n",
       "</style>\n",
       "<table border=\"1\" class=\"dataframe\">\n",
       "  <thead>\n",
       "    <tr style=\"text-align: right;\">\n",
       "      <th></th>\n",
       "      <th>MSSubClass</th>\n",
       "      <th>MSZoning</th>\n",
       "      <th>LotFrontage</th>\n",
       "      <th>LotArea</th>\n",
       "      <th>Street</th>\n",
       "      <th>Alley</th>\n",
       "      <th>LotShape</th>\n",
       "      <th>LandContour</th>\n",
       "      <th>Utilities</th>\n",
       "      <th>LotConfig</th>\n",
       "      <th>...</th>\n",
       "      <th>PoolArea</th>\n",
       "      <th>PoolQC</th>\n",
       "      <th>Fence</th>\n",
       "      <th>MiscFeature</th>\n",
       "      <th>MiscVal</th>\n",
       "      <th>MoSold</th>\n",
       "      <th>YrSold</th>\n",
       "      <th>SaleType</th>\n",
       "      <th>SaleCondition</th>\n",
       "      <th>SalePrice</th>\n",
       "    </tr>\n",
       "  </thead>\n",
       "  <tbody>\n",
       "    <tr>\n",
       "      <th>0</th>\n",
       "      <td>60</td>\n",
       "      <td>RL</td>\n",
       "      <td>65.0</td>\n",
       "      <td>8450</td>\n",
       "      <td>Pave</td>\n",
       "      <td>NaN</td>\n",
       "      <td>Reg</td>\n",
       "      <td>Lvl</td>\n",
       "      <td>AllPub</td>\n",
       "      <td>Inside</td>\n",
       "      <td>...</td>\n",
       "      <td>0</td>\n",
       "      <td>NaN</td>\n",
       "      <td>NaN</td>\n",
       "      <td>NaN</td>\n",
       "      <td>0</td>\n",
       "      <td>2</td>\n",
       "      <td>2008</td>\n",
       "      <td>WD</td>\n",
       "      <td>Normal</td>\n",
       "      <td>208500</td>\n",
       "    </tr>\n",
       "    <tr>\n",
       "      <th>1</th>\n",
       "      <td>20</td>\n",
       "      <td>RL</td>\n",
       "      <td>80.0</td>\n",
       "      <td>9600</td>\n",
       "      <td>Pave</td>\n",
       "      <td>NaN</td>\n",
       "      <td>Reg</td>\n",
       "      <td>Lvl</td>\n",
       "      <td>AllPub</td>\n",
       "      <td>FR2</td>\n",
       "      <td>...</td>\n",
       "      <td>0</td>\n",
       "      <td>NaN</td>\n",
       "      <td>NaN</td>\n",
       "      <td>NaN</td>\n",
       "      <td>0</td>\n",
       "      <td>5</td>\n",
       "      <td>2007</td>\n",
       "      <td>WD</td>\n",
       "      <td>Normal</td>\n",
       "      <td>181500</td>\n",
       "    </tr>\n",
       "    <tr>\n",
       "      <th>2</th>\n",
       "      <td>60</td>\n",
       "      <td>RL</td>\n",
       "      <td>68.0</td>\n",
       "      <td>11250</td>\n",
       "      <td>Pave</td>\n",
       "      <td>NaN</td>\n",
       "      <td>IR1</td>\n",
       "      <td>Lvl</td>\n",
       "      <td>AllPub</td>\n",
       "      <td>Inside</td>\n",
       "      <td>...</td>\n",
       "      <td>0</td>\n",
       "      <td>NaN</td>\n",
       "      <td>NaN</td>\n",
       "      <td>NaN</td>\n",
       "      <td>0</td>\n",
       "      <td>9</td>\n",
       "      <td>2008</td>\n",
       "      <td>WD</td>\n",
       "      <td>Normal</td>\n",
       "      <td>223500</td>\n",
       "    </tr>\n",
       "  </tbody>\n",
       "</table>\n",
       "<p>3 rows × 80 columns</p>\n",
       "</div>"
      ],
      "text/plain": [
       "   MSSubClass MSZoning  LotFrontage  LotArea Street Alley LotShape  \\\n",
       "0          60       RL         65.0     8450   Pave   NaN      Reg   \n",
       "1          20       RL         80.0     9600   Pave   NaN      Reg   \n",
       "2          60       RL         68.0    11250   Pave   NaN      IR1   \n",
       "\n",
       "  LandContour Utilities LotConfig  ... PoolArea PoolQC Fence MiscFeature  \\\n",
       "0         Lvl    AllPub    Inside  ...        0    NaN   NaN         NaN   \n",
       "1         Lvl    AllPub       FR2  ...        0    NaN   NaN         NaN   \n",
       "2         Lvl    AllPub    Inside  ...        0    NaN   NaN         NaN   \n",
       "\n",
       "  MiscVal MoSold  YrSold  SaleType  SaleCondition  SalePrice  \n",
       "0       0      2    2008        WD         Normal     208500  \n",
       "1       0      5    2007        WD         Normal     181500  \n",
       "2       0      9    2008        WD         Normal     223500  \n",
       "\n",
       "[3 rows x 80 columns]"
      ]
     },
     "execution_count": 1,
     "metadata": {},
     "output_type": "execute_result"
    }
   ],
   "source": [
    "# Read train files\n",
    "import pandas as pd\n",
    "\n",
    "df_train = pd.read_csv(\"train.csv\", index_col=0)\n",
    "print(len(df_train))\n",
    "df_train.head(3)"
   ]
  },
  {
   "cell_type": "code",
   "execution_count": 2,
   "id": "87f717a3",
   "metadata": {},
   "outputs": [
    {
     "data": {
      "text/plain": [
       "(1000,)"
      ]
     },
     "execution_count": 2,
     "metadata": {},
     "output_type": "execute_result"
    }
   ],
   "source": [
    "y=df_train[\"SalePrice\"] #y is our variable with the labels only\n",
    "y.shape"
   ]
  },
  {
   "cell_type": "code",
   "execution_count": 3,
   "id": "3ae0286d",
   "metadata": {},
   "outputs": [
    {
     "data": {
      "text/plain": [
       "(1000, 79)"
      ]
     },
     "execution_count": 3,
     "metadata": {},
     "output_type": "execute_result"
    }
   ],
   "source": [
    "X = df_train.drop([\"SalePrice\"], axis=1) # for X I used the function drop in order to drop specified labels and row from the column\n",
    "X.shape"
   ]
  },
  {
   "cell_type": "code",
   "execution_count": 4,
   "id": "652ad41b",
   "metadata": {},
   "outputs": [
    {
     "name": "stdout",
     "output_type": "stream",
     "text": [
      "The Number of Numrical Colums are : 36\n",
      "\n",
      "\n",
      "The List of Numerical Columns:\n",
      "\n",
      "\n",
      "Index(['MSSubClass', 'LotFrontage', 'LotArea', 'OverallQual', 'OverallCond',\n",
      "       'YearBuilt', 'YearRemodAdd', 'MasVnrArea', 'BsmtFinSF1', 'BsmtFinSF2',\n",
      "       'BsmtUnfSF', 'TotalBsmtSF', '1stFlrSF', '2ndFlrSF', 'LowQualFinSF',\n",
      "       'GrLivArea', 'BsmtFullBath', 'BsmtHalfBath', 'FullBath', 'HalfBath',\n",
      "       'BedroomAbvGr', 'KitchenAbvGr', 'TotRmsAbvGrd', 'Fireplaces',\n",
      "       'GarageYrBlt', 'GarageCars', 'GarageArea', 'WoodDeckSF', 'OpenPorchSF',\n",
      "       'EnclosedPorch', '3SsnPorch', 'ScreenPorch', 'PoolArea', 'MiscVal',\n",
      "       'MoSold', 'YrSold'],\n",
      "      dtype='object')\n"
     ]
    }
   ],
   "source": [
    "#Finding the number of Numerical Columns in the dataset\n",
    "num_cols = X._get_numeric_data().columns  #Used _get_numeric_data function order to get the numeric columns\n",
    "print(\"The Number of Numrical Colums are :\",str(len(num_cols))) #Used str len function to find the list of numrical columns\n",
    "print(\"\\n\")\n",
    "print(\"The List of Numerical Columns:\")\n",
    "print('\\n')\n",
    "print(num_cols)\n"
   ]
  },
  {
   "cell_type": "code",
   "execution_count": 5,
   "id": "2d8071ba",
   "metadata": {},
   "outputs": [
    {
     "name": "stdout",
     "output_type": "stream",
     "text": [
      "The Number of Categorical Colums are : 43\n",
      "\n",
      "\n",
      "The List of Categorical Columns:\n",
      "\n",
      "\n",
      "['MSZoning', 'Street', 'Alley', 'LotShape', 'LandContour', 'Utilities', 'LotConfig', 'LandSlope', 'Neighborhood', 'Condition1', 'Condition2', 'BldgType', 'HouseStyle', 'RoofStyle', 'RoofMatl', 'Exterior1st', 'Exterior2nd', 'MasVnrType', 'ExterQual', 'ExterCond', 'Foundation', 'BsmtQual', 'BsmtCond', 'BsmtExposure', 'BsmtFinType1', 'BsmtFinType2', 'Heating', 'HeatingQC', 'CentralAir', 'Electrical', 'KitchenQual', 'Functional', 'FireplaceQu', 'GarageType', 'GarageFinish', 'GarageQual', 'GarageCond', 'PavedDrive', 'PoolQC', 'Fence', 'MiscFeature', 'SaleType', 'SaleCondition']\n"
     ]
    }
   ],
   "source": [
    "cat_cols=X.select_dtypes(include=['object']).columns.tolist() #Here you can see I included only OBJECT type variables to count non numeric columns\n",
    "print(\"The Number of Categorical Colums are :\",str(len(cat_cols)))##Used str len function to find the list of categorical columns\n",
    "print(\"\\n\")\n",
    "print(\"The List of Categorical Columns:\")\n",
    "print('\\n')\n",
    "print(cat_cols)"
   ]
  },
  {
   "cell_type": "code",
   "execution_count": 61,
   "id": "a22553f4",
   "metadata": {},
   "outputs": [
    {
     "data": {
      "text/plain": [
       "MSZoning          5\n",
       "Street            2\n",
       "Alley             2\n",
       "LotShape          4\n",
       "LandContour       4\n",
       "Utilities         2\n",
       "LotConfig         5\n",
       "LandSlope         3\n",
       "Neighborhood     25\n",
       "Condition1        9\n",
       "Condition2        6\n",
       "BldgType          5\n",
       "HouseStyle        8\n",
       "RoofStyle         5\n",
       "RoofMatl          6\n",
       "Exterior1st      11\n",
       "Exterior2nd      15\n",
       "MasVnrType        4\n",
       "ExterQual         4\n",
       "ExterCond         5\n",
       "Foundation        6\n",
       "BsmtQual          4\n",
       "BsmtCond          4\n",
       "BsmtExposure      4\n",
       "BsmtFinType1      6\n",
       "BsmtFinType2      6\n",
       "Heating           4\n",
       "HeatingQC         5\n",
       "CentralAir        2\n",
       "Electrical        5\n",
       "KitchenQual       4\n",
       "Functional        7\n",
       "FireplaceQu       5\n",
       "GarageType        6\n",
       "GarageFinish      3\n",
       "GarageQual        5\n",
       "GarageCond        5\n",
       "PavedDrive        3\n",
       "PoolQC            2\n",
       "Fence             4\n",
       "MiscFeature       3\n",
       "SaleType          9\n",
       "SaleCondition     6\n",
       "dtype: int64"
      ]
     },
     "execution_count": 61,
     "metadata": {},
     "output_type": "execute_result"
    }
   ],
   "source": [
    "#finding the unique values in the categorical colums to I get the idea of number of values I should aim for.\n",
    "cat_dict={}\n",
    "cat_dict=X[cat_cols].nunique() #Used nunique function to find the number of unique values in each categorical column \n",
    "cat_dict"
   ]
  },
  {
   "cell_type": "code",
   "execution_count": 6,
   "id": "3f68f462",
   "metadata": {},
   "outputs": [],
   "source": [
    "#Here the necessity of seperating the numerical values which are important to us are included in the list, and the rest of the values in column are not included.\n",
    "cat_ord = [\"Utilities\", \"ExterQual\", \"ExterCond\",\n",
    "                       \"BsmtQual\", \"BsmtCond\", \"BsmtExposure\",\n",
    "                       \"BsmtFinType1\", \"BsmtFinType2\", \"HeatingQC\",\n",
    "                       \"KitchenQual\", \"FireplaceQu\",\"GarageFinish\",\n",
    "                       \"GarageQual\", \"GarageCond\", \"PoolQC\", \"Fence\"]\n",
    "\n",
    "#Same goes for non numerical However we had exact number of values previously, but I re-created it so that it is easy to compare them in same block. code will not be messy\n",
    "cat_nom = [\"MSZoning\", \"Street\", \"Alley\", \"LotShape\",\n",
    "                       \"LandContour\", \"LotConfig\",\"LandSlope\", \"Condition1\",\n",
    "                       \"Condition2\", \"BldgType\", \"HouseStyle\",\"RoofStyle\",\n",
    "                       \"RoofMatl\", \"MasVnrType\", \"Foundation\", \"Heating\",\n",
    "                       \"CentralAir\",\"Electrical\", \"Functional\", \"GarageType\",\n",
    "                       \"PavedDrive\", \"SaleType\", \"SaleCondition\"]"
   ]
  },
  {
   "cell_type": "code",
   "execution_count": 7,
   "id": "0f115431",
   "metadata": {},
   "outputs": [
    {
     "name": "stdout",
     "output_type": "stream",
     "text": [
      "{'Alley': 935, 'MasVnrType': 6, 'BsmtQual': 24, 'BsmtCond': 24, 'BsmtExposure': 25, 'BsmtFinType1': 24, 'BsmtFinType2': 25, 'FireplaceQu': 478, 'GarageType': 56, 'GarageFinish': 56, 'GarageQual': 56, 'GarageCond': 56, 'PoolQC': 998, 'Fence': 806, 'MiscFeature': 957}\n"
     ]
    }
   ],
   "source": [
    "#Next Step is to find the null values in the categorical colums\n",
    "nan_cat={}\n",
    "for i in X[cat_cols].columns:\n",
    "    if X[i].isnull().sum() > 0:   #I used here greater then Zero because this will exclude the colums which donot have null values otherwise it would have been messy as it will also show the columns with zero null values.\n",
    "        nan_cat[i] = X[i].isnull().sum()\n",
    "        \n",
    "print(nan_cat)\n"
   ]
  },
  {
   "cell_type": "code",
   "execution_count": 8,
   "id": "8680ac45",
   "metadata": {},
   "outputs": [
    {
     "name": "stdout",
     "output_type": "stream",
     "text": [
      "{'LotFrontage': 173, 'MasVnrArea': 6, 'GarageYrBlt': 56}\n"
     ]
    }
   ],
   "source": [
    "#Finding the number of null values in the Numerical Columns \n",
    "\n",
    "nan_num={}\n",
    "for i in X[num_cols].columns:\n",
    "    if X[i].isnull().sum() > 0: #I used here greater then Zero because this will exclude the colums which donot have null values otherwise it would have been messy as it will also show the columns with zero null values.\n",
    "        nan_num[i] = X[i].isnull().sum()\n",
    "        \n",
    "print(nan_num)"
   ]
  },
  {
   "cell_type": "code",
   "execution_count": 9,
   "id": "16f1da15",
   "metadata": {},
   "outputs": [],
   "source": [
    "from sklearn.preprocessing import LabelEncoder\n",
    "\n",
    "def encode_cat(X):\n",
    "    \n",
    "    X[['ExterQual','ExterCond','BsmtQual','BsmtCond','BsmtExposure','BsmtFinType1','GarageCond','KitchenQual','FireplaceQu','GarageFinish','BsmtFinType2','HeatingQC','GarageQual','PoolQC','Fence','Utilities']] = X[['ExterQual','ExterCond','BsmtQual','BsmtCond','BsmtExposure','BsmtFinType1','GarageCond','KitchenQual','FireplaceQu','GarageFinish','BsmtFinType2','HeatingQC','GarageQual','PoolQC','Fence','Utilities']].apply(LabelEncoder().fit_transform)\n",
    "    \n",
    "    return X\n",
    "\n",
    "#Here I made us of the LabelEncoder to give numerical values to categorical columns as when I will fit them in Pipeline it only allows numerical values\n",
    "#Hence using LabelEncoder it will give values for eg: 0,1,2,3 etc to the values in the columns to distinguish them."
   ]
  },
  {
   "cell_type": "code",
   "execution_count": 10,
   "id": "222dd8d6",
   "metadata": {},
   "outputs": [],
   "source": [
    "#*Cat_Encoder* class act as a transformer that encodes ordinal categorical variables. \n",
    "#The *fit* method is used to fit the transformer on the training data, \n",
    "#while the *transform* method is used to apply the transformation on the data.\n",
    "\n",
    "from sklearn.base import BaseEstimator, TransformerMixin\n",
    "\n",
    "class Cat_Encoder(BaseEstimator, TransformerMixin):\n",
    "    def __init__(self):\n",
    "        pass\n",
    "    def fit(self, X, y=None):\n",
    "        return self\n",
    "    def transform(self, X):\n",
    "        return encode_cat(X)\n",
    "    \n",
    "#The *fit* method takes two arguments: X and y. X is a dataframe containing the training data, \n",
    "#while y is a dataframe containing the target variable. \n",
    "#The *fit* method should return the transformer object itself, so that it can be used to transform the data later.\n",
    "#The transform method takes a single argument X, which is the data that needs to be transformed. \n",
    "#It returns the transformed data."
   ]
  },
  {
   "cell_type": "code",
   "execution_count": 11,
   "id": "beb2cbec",
   "metadata": {},
   "outputs": [],
   "source": [
    "from sklearn.preprocessing import OneHotEncoder\n",
    "\n",
    "from sklearn.compose import ColumnTransformer\n",
    "from sklearn.pipeline import Pipeline\n",
    "from sklearn.impute import SimpleImputer\n",
    "\n",
    "#*cat_ord_tf* is a pipeline that contains a single step: the *Cat_Encoder* transformer. \n",
    "#This transformer is likely used to encode ordinal categorical features, \n",
    "#which are categorical features that have a natural order or ranking.\n",
    "\n",
    "cat_ord_tf = Pipeline(steps=[(\"ordinal_encoder\", Cat_Encoder())]) \n",
    "\n",
    "\n",
    "cat_nom_tf = Pipeline(steps=[(\"imputer\", SimpleImputer(strategy=\"constant\")),(\"oh_encoder\", OneHotEncoder(handle_unknown=\"ignore\"))])\n",
    "\n",
    "#*cat_nom_tf* is a pipeline that contains two steps: a *SimpleImputer* and an *OneHotEncoder*. \n",
    "#*SimpleImputer* is a transformer that is used to fill in missing values in the dataset by replacing them with a constant\n",
    "#value. The *strategy parameter* specifies which \"constant\" value to use; in this case, \n",
    "#the strategy is \"constant\", which means that the missing values will be replaced with \n",
    "#the value specified in the fill_value parameter (if no value is specified, the default value is 0).\n",
    "\n"
   ]
  },
  {
   "cell_type": "code",
   "execution_count": 12,
   "id": "730755d9",
   "metadata": {},
   "outputs": [],
   "source": [
    "#The *SimpleImputer* transformer is used to fill in missing values in numerical columns \n",
    "#with a statistic median or mean.\n",
    "\n",
    "num_tf = SimpleImputer(strategy=\"median\")\n",
    "\n",
    "#In this case, the *strategy* parameter is set to \"median\", \n",
    "#so the SimpleImputer will compute the median value of the column and use that value to fill in any missing values."
   ]
  },
  {
   "cell_type": "code",
   "execution_count": 13,
   "id": "746b7de7",
   "metadata": {},
   "outputs": [],
   "source": [
    "#The *p_processor* in this case is a \"ColumnTransformer\" that applies different transformers to different subsets of columns in a dataset. \n",
    "#The ColumnTransformer takes a list of tuples as input, where each tuple specifies the transformer to apply, \n",
    "#the columns to which the transformer should be applied, and any additional arguments.\n",
    "\n",
    "p_processor = ColumnTransformer(\n",
    "    transformers=[\n",
    "        (\"numerical\", num_tf, num_cols),\n",
    "        (\"categorical_ordinal\", cat_ord_tf,cat_ord),\n",
    "        (\"categorical_nominal\", cat_nom_tf,cat_nom)\n",
    "    ]\n",
    ")"
   ]
  },
  {
   "cell_type": "code",
   "execution_count": 17,
   "id": "d4399241",
   "metadata": {},
   "outputs": [],
   "source": [
    "#importing the model\n",
    "from sklearn.ensemble import RandomForestRegressor\n",
    "\n",
    "random_forest = RandomForestRegressor(n_estimators=100, random_state=0)"
   ]
  },
  {
   "cell_type": "code",
   "execution_count": 18,
   "id": "6434d53a",
   "metadata": {},
   "outputs": [],
   "source": [
    "#I used the *GridSearchCV* function from scikit-learn to perform hyperparameter \n",
    "#tuning by systematically training and evaluating models with different \n",
    "#combinations of hyperparameters.\n",
    "\n",
    "from sklearn.model_selection import GridSearchCV\n",
    "\n",
    "g_para = [{\"n_estimators\": [50, 100, 500, 750, 1000]}] #different hyperparameters 50,100,500,750,1000\n",
    "\n",
    "g_search = GridSearchCV(random_forest, g_para, cv=3, scoring=\"neg_mean_squared_log_error\") \n",
    "\n",
    "#I peviously used mean_squared_error here but it was giving out errors hence used \"negative mean squared logarithmic error\". \n",
    "#The *cv* parameter specifies the number of folds to use for cross-validation. In this case, it is set to 3, \n",
    "#so the GridSearchCV will use 3-fold cross-validation to evaluate the models."
   ]
  },
  {
   "cell_type": "code",
   "execution_count": 19,
   "id": "61522789",
   "metadata": {},
   "outputs": [
    {
     "data": {
      "text/plain": [
       "Pipeline(steps=[('preprocessor',\n",
       "                 ColumnTransformer(transformers=[('numerical',\n",
       "                                                  SimpleImputer(strategy='median'),\n",
       "                                                  Index(['MSSubClass', 'LotFrontage', 'LotArea', 'OverallQual', 'OverallCond',\n",
       "       'YearBuilt', 'YearRemodAdd', 'MasVnrArea', 'BsmtFinSF1', 'BsmtFinSF2',\n",
       "       'BsmtUnfSF', 'TotalBsmtSF', '1stFlrSF', '2ndFlrSF', 'LowQualFinSF',\n",
       "       'GrLivArea', 'BsmtFullBath', 'BsmtHalfBat...\n",
       "                                                   'Condition2', 'BldgType',\n",
       "                                                   'HouseStyle', 'RoofStyle',\n",
       "                                                   'RoofMatl', 'MasVnrType',\n",
       "                                                   'Foundation', 'Heating',\n",
       "                                                   'CentralAir', 'Electrical',\n",
       "                                                   'Functional', 'GarageType',\n",
       "                                                   'PavedDrive', 'SaleType',\n",
       "                                                   'SaleCondition'])])),\n",
       "                ('grid_search',\n",
       "                 GridSearchCV(cv=3,\n",
       "                              estimator=RandomForestRegressor(random_state=0),\n",
       "                              param_grid=[{'n_estimators': [50, 100, 500, 750,\n",
       "                                                            1000]}],\n",
       "                              scoring='neg_mean_squared_log_error'))])"
      ]
     },
     "execution_count": 19,
     "metadata": {},
     "output_type": "execute_result"
    }
   ],
   "source": [
    "#It's the final pipeline which consists of preprocessor and grid search results \n",
    "\n",
    "final_pipeline = Pipeline(steps=[(\"preprocessor\", p_processor),(\"grid_search\", g_search)])\n",
    "\n",
    "final_pipeline.fit(X, y)\n",
    "\n",
    "#The fit method will first apply the preprocessing step to the training data using the preprocessor, \n",
    "#and then it will use the preprocessed data to train and tune the model using the grid_search object"
   ]
  },
  {
   "cell_type": "code",
   "execution_count": 20,
   "id": "f4954312",
   "metadata": {},
   "outputs": [
    {
     "name": "stdout",
     "output_type": "stream",
     "text": [
      "{'n_estimators': 1000} RandomForestRegressor(n_estimators=1000, random_state=0) 0.023457341367474464\n"
     ]
    }
   ],
   "source": [
    "print(g_search.best_params_, g_search.best_estimator_, -g_search.best_score_) \n",
    "\n",
    "#here we find the best parameter, estimator and best score for the grid search \n",
    "#using the predefined functions."
   ]
  },
  {
   "cell_type": "code",
   "execution_count": 21,
   "id": "d755c43e",
   "metadata": {},
   "outputs": [],
   "source": [
    "#Here I used the mean_squared_log_error in order to get realisitic results as when I used the root_mean_square_error the values coming out where not looking realistic.\n",
    "from sklearn.metrics import mean_squared_log_error\n",
    "\n",
    "def score(X, y, model): \n",
    "    y_pred = model.predict(X)\n",
    "    return mean_squared_log_error(y, y_pred)"
   ]
  },
  {
   "cell_type": "code",
   "execution_count": 22,
   "id": "9190bda4",
   "metadata": {},
   "outputs": [
    {
     "data": {
      "text/plain": [
       "0.003761648896756794"
      ]
     },
     "execution_count": 22,
     "metadata": {},
     "output_type": "execute_result"
    }
   ],
   "source": [
    "score(X, y, final_pipeline) #Score produced by model"
   ]
  },
  {
   "cell_type": "code",
   "execution_count": 23,
   "id": "0523f4df",
   "metadata": {},
   "outputs": [
    {
     "data": {
      "text/plain": [
       "Pipeline(steps=[('preprocessor',\n",
       "                 ColumnTransformer(transformers=[('numerical',\n",
       "                                                  SimpleImputer(strategy='median'),\n",
       "                                                  Index(['MSSubClass', 'LotFrontage', 'LotArea', 'OverallQual', 'OverallCond',\n",
       "       'YearBuilt', 'YearRemodAdd', 'MasVnrArea', 'BsmtFinSF1', 'BsmtFinSF2',\n",
       "       'BsmtUnfSF', 'TotalBsmtSF', '1stFlrSF', '2ndFlrSF', 'LowQualFinSF',\n",
       "       'GrLivArea', 'BsmtFullBath', 'BsmtHalfBat...\n",
       "                                                     max_cat_threshold=None,\n",
       "                                                     max_cat_to_onehot=None,\n",
       "                                                     max_delta_step=None,\n",
       "                                                     max_depth=None,\n",
       "                                                     max_leaves=None,\n",
       "                                                     min_child_weight=None,\n",
       "                                                     missing=nan,\n",
       "                                                     monotone_constraints=None,\n",
       "                                                     n_estimators=100, n_jobs=6,\n",
       "                                                     num_parallel_tree=None,\n",
       "                                                     predictor=None,\n",
       "                                                     random_state=0, ...),\n",
       "                              param_grid=[{'learning_rate': [0.005, 0.01, 0.05,\n",
       "                                                             0.1],\n",
       "                                           'n_estimators': [100, 300, 500, 700,\n",
       "                                                            1000]}],\n",
       "                              scoring='neg_mean_squared_log_error'))])"
      ]
     },
     "execution_count": 23,
     "metadata": {},
     "output_type": "execute_result"
    }
   ],
   "source": [
    "import xgboost as xgb\n",
    "from xgboost import XGBRegressor \n",
    "#I used the XGBRegressor in order to boost the class gradient and to make the algorithm faster and efficient in order to get satisfactory results.\n",
    "\n",
    "xgb = XGBRegressor(n_jobs=6, random_state=0)\n",
    "\n",
    "g_para = [\n",
    "    {\"n_estimators\": [100, 300, 500, 700, 1000], \"learning_rate\": [0.005, 0.01, 0.05, 0.1]}]\n",
    "\n",
    "g_search = GridSearchCV(xgb, g_para, cv=3,scoring=\"neg_mean_squared_log_error\")\n",
    "\n",
    "final_pipeline = Pipeline(steps=[\n",
    "    (\"preprocessor\", p_processor),\n",
    "    (\"grid_search\", g_search)\n",
    "])\n",
    "\n",
    "final_pipeline.fit(X, y)"
   ]
  },
  {
   "cell_type": "code",
   "execution_count": 24,
   "id": "ca8f1ffd",
   "metadata": {},
   "outputs": [
    {
     "name": "stdout",
     "output_type": "stream",
     "text": [
      "{'learning_rate': 0.01, 'n_estimators': 1000} XGBRegressor(base_score=0.5, booster='gbtree', callbacks=None,\n",
      "             colsample_bylevel=1, colsample_bynode=1, colsample_bytree=1,\n",
      "             early_stopping_rounds=None, enable_categorical=False,\n",
      "             eval_metric=None, feature_types=None, gamma=0, gpu_id=-1,\n",
      "             grow_policy='depthwise', importance_type=None,\n",
      "             interaction_constraints='', learning_rate=0.01, max_bin=256,\n",
      "             max_cat_threshold=64, max_cat_to_onehot=4, max_delta_step=0,\n",
      "             max_depth=6, max_leaves=0, min_child_weight=1, missing=nan,\n",
      "             monotone_constraints='()', n_estimators=1000, n_jobs=6,\n",
      "             num_parallel_tree=1, predictor='auto', random_state=0, ...) 0.021856328158122242\n"
     ]
    }
   ],
   "source": [
    "print(g_search.best_params_, g_search.best_estimator_, -g_search.best_score_)\n",
    "\n",
    "#here we find the best parameter, estimator and best score for the grid search \n",
    "#using the predefined functions."
   ]
  },
  {
   "cell_type": "code",
   "execution_count": 25,
   "id": "a5b7fb63",
   "metadata": {
    "ExecuteTime": {
     "end_time": "2022-11-24T10:32:28.848236Z",
     "start_time": "2022-11-24T10:32:28.818238Z"
    }
   },
   "outputs": [
    {
     "name": "stdout",
     "output_type": "stream",
     "text": [
      "460\n"
     ]
    },
    {
     "data": {
      "text/html": [
       "<div>\n",
       "<style scoped>\n",
       "    .dataframe tbody tr th:only-of-type {\n",
       "        vertical-align: middle;\n",
       "    }\n",
       "\n",
       "    .dataframe tbody tr th {\n",
       "        vertical-align: top;\n",
       "    }\n",
       "\n",
       "    .dataframe thead th {\n",
       "        text-align: right;\n",
       "    }\n",
       "</style>\n",
       "<table border=\"1\" class=\"dataframe\">\n",
       "  <thead>\n",
       "    <tr style=\"text-align: right;\">\n",
       "      <th></th>\n",
       "      <th>MSSubClass</th>\n",
       "      <th>MSZoning</th>\n",
       "      <th>LotFrontage</th>\n",
       "      <th>LotArea</th>\n",
       "      <th>Street</th>\n",
       "      <th>Alley</th>\n",
       "      <th>LotShape</th>\n",
       "      <th>LandContour</th>\n",
       "      <th>Utilities</th>\n",
       "      <th>LotConfig</th>\n",
       "      <th>...</th>\n",
       "      <th>ScreenPorch</th>\n",
       "      <th>PoolArea</th>\n",
       "      <th>PoolQC</th>\n",
       "      <th>Fence</th>\n",
       "      <th>MiscFeature</th>\n",
       "      <th>MiscVal</th>\n",
       "      <th>MoSold</th>\n",
       "      <th>YrSold</th>\n",
       "      <th>SaleType</th>\n",
       "      <th>SaleCondition</th>\n",
       "    </tr>\n",
       "    <tr>\n",
       "      <th>id</th>\n",
       "      <th></th>\n",
       "      <th></th>\n",
       "      <th></th>\n",
       "      <th></th>\n",
       "      <th></th>\n",
       "      <th></th>\n",
       "      <th></th>\n",
       "      <th></th>\n",
       "      <th></th>\n",
       "      <th></th>\n",
       "      <th></th>\n",
       "      <th></th>\n",
       "      <th></th>\n",
       "      <th></th>\n",
       "      <th></th>\n",
       "      <th></th>\n",
       "      <th></th>\n",
       "      <th></th>\n",
       "      <th></th>\n",
       "      <th></th>\n",
       "      <th></th>\n",
       "    </tr>\n",
       "  </thead>\n",
       "  <tbody>\n",
       "    <tr>\n",
       "      <th>1000</th>\n",
       "      <td>20</td>\n",
       "      <td>RL</td>\n",
       "      <td>74.0</td>\n",
       "      <td>10206</td>\n",
       "      <td>Pave</td>\n",
       "      <td>NaN</td>\n",
       "      <td>Reg</td>\n",
       "      <td>Lvl</td>\n",
       "      <td>AllPub</td>\n",
       "      <td>Corner</td>\n",
       "      <td>...</td>\n",
       "      <td>0</td>\n",
       "      <td>0</td>\n",
       "      <td>NaN</td>\n",
       "      <td>NaN</td>\n",
       "      <td>NaN</td>\n",
       "      <td>0</td>\n",
       "      <td>7</td>\n",
       "      <td>2009</td>\n",
       "      <td>WD</td>\n",
       "      <td>Normal</td>\n",
       "    </tr>\n",
       "    <tr>\n",
       "      <th>1001</th>\n",
       "      <td>30</td>\n",
       "      <td>RL</td>\n",
       "      <td>60.0</td>\n",
       "      <td>5400</td>\n",
       "      <td>Pave</td>\n",
       "      <td>NaN</td>\n",
       "      <td>Reg</td>\n",
       "      <td>Lvl</td>\n",
       "      <td>AllPub</td>\n",
       "      <td>Corner</td>\n",
       "      <td>...</td>\n",
       "      <td>0</td>\n",
       "      <td>0</td>\n",
       "      <td>NaN</td>\n",
       "      <td>NaN</td>\n",
       "      <td>NaN</td>\n",
       "      <td>0</td>\n",
       "      <td>1</td>\n",
       "      <td>2007</td>\n",
       "      <td>WD</td>\n",
       "      <td>Abnorml</td>\n",
       "    </tr>\n",
       "    <tr>\n",
       "      <th>1002</th>\n",
       "      <td>20</td>\n",
       "      <td>RL</td>\n",
       "      <td>75.0</td>\n",
       "      <td>11957</td>\n",
       "      <td>Pave</td>\n",
       "      <td>NaN</td>\n",
       "      <td>IR1</td>\n",
       "      <td>Lvl</td>\n",
       "      <td>AllPub</td>\n",
       "      <td>Inside</td>\n",
       "      <td>...</td>\n",
       "      <td>0</td>\n",
       "      <td>0</td>\n",
       "      <td>NaN</td>\n",
       "      <td>NaN</td>\n",
       "      <td>NaN</td>\n",
       "      <td>0</td>\n",
       "      <td>7</td>\n",
       "      <td>2008</td>\n",
       "      <td>WD</td>\n",
       "      <td>Normal</td>\n",
       "    </tr>\n",
       "  </tbody>\n",
       "</table>\n",
       "<p>3 rows × 79 columns</p>\n",
       "</div>"
      ],
      "text/plain": [
       "      MSSubClass MSZoning  LotFrontage  LotArea Street Alley LotShape  \\\n",
       "id                                                                      \n",
       "1000          20       RL         74.0    10206   Pave   NaN      Reg   \n",
       "1001          30       RL         60.0     5400   Pave   NaN      Reg   \n",
       "1002          20       RL         75.0    11957   Pave   NaN      IR1   \n",
       "\n",
       "     LandContour Utilities LotConfig  ... ScreenPorch PoolArea PoolQC Fence  \\\n",
       "id                                    ...                                     \n",
       "1000         Lvl    AllPub    Corner  ...           0        0    NaN   NaN   \n",
       "1001         Lvl    AllPub    Corner  ...           0        0    NaN   NaN   \n",
       "1002         Lvl    AllPub    Inside  ...           0        0    NaN   NaN   \n",
       "\n",
       "     MiscFeature MiscVal  MoSold  YrSold  SaleType  SaleCondition  \n",
       "id                                                                 \n",
       "1000         NaN       0       7    2009        WD         Normal  \n",
       "1001         NaN       0       1    2007        WD        Abnorml  \n",
       "1002         NaN       0       7    2008        WD         Normal  \n",
       "\n",
       "[3 rows x 79 columns]"
      ]
     },
     "execution_count": 25,
     "metadata": {},
     "output_type": "execute_result"
    }
   ],
   "source": [
    "\n",
    "df_test = pd.read_csv(\"test.csv\", index_col=0) #reading the test file in df_test variable.\n",
    "print(len(df_test)) #to count number of elements\n",
    "df_test.head(3)"
   ]
  },
  {
   "cell_type": "code",
   "execution_count": 26,
   "id": "9afe445b",
   "metadata": {},
   "outputs": [],
   "source": [
    "X_test = p_processor.transform(df_test) #Stored the processed data in the X_test."
   ]
  },
  {
   "cell_type": "code",
   "execution_count": 27,
   "id": "d14b50b7",
   "metadata": {},
   "outputs": [],
   "source": [
    "y_pred = g_search.predict(X_test) #Storing the prediction labels in the y_pred variable."
   ]
  },
  {
   "cell_type": "code",
   "execution_count": 28,
   "id": "398dcb14",
   "metadata": {},
   "outputs": [
    {
     "data": {
      "text/html": [
       "<div>\n",
       "<style scoped>\n",
       "    .dataframe tbody tr th:only-of-type {\n",
       "        vertical-align: middle;\n",
       "    }\n",
       "\n",
       "    .dataframe tbody tr th {\n",
       "        vertical-align: top;\n",
       "    }\n",
       "\n",
       "    .dataframe thead th {\n",
       "        text-align: right;\n",
       "    }\n",
       "</style>\n",
       "<table border=\"1\" class=\"dataframe\">\n",
       "  <thead>\n",
       "    <tr style=\"text-align: right;\">\n",
       "      <th></th>\n",
       "      <th>Id</th>\n",
       "      <th>SalePrice</th>\n",
       "    </tr>\n",
       "  </thead>\n",
       "  <tbody>\n",
       "    <tr>\n",
       "      <th>0</th>\n",
       "      <td>1000</td>\n",
       "      <td>84239.703125</td>\n",
       "    </tr>\n",
       "    <tr>\n",
       "      <th>1</th>\n",
       "      <td>1001</td>\n",
       "      <td>89087.335938</td>\n",
       "    </tr>\n",
       "    <tr>\n",
       "      <th>2</th>\n",
       "      <td>1002</td>\n",
       "      <td>243305.171875</td>\n",
       "    </tr>\n",
       "    <tr>\n",
       "      <th>3</th>\n",
       "      <td>1003</td>\n",
       "      <td>144553.781250</td>\n",
       "    </tr>\n",
       "    <tr>\n",
       "      <th>4</th>\n",
       "      <td>1004</td>\n",
       "      <td>192827.203125</td>\n",
       "    </tr>\n",
       "  </tbody>\n",
       "</table>\n",
       "</div>"
      ],
      "text/plain": [
       "     Id      SalePrice\n",
       "0  1000   84239.703125\n",
       "1  1001   89087.335938\n",
       "2  1002  243305.171875\n",
       "3  1003  144553.781250\n",
       "4  1004  192827.203125"
      ]
     },
     "execution_count": 28,
     "metadata": {},
     "output_type": "execute_result"
    }
   ],
   "source": [
    "#Saved my predictions in the CSV file.\n",
    "df_results = pd.DataFrame({\"Id\": df_test.index,\"SalePrice\": y_pred})\n",
    "df_results.to_csv(\"results.csv\", index_label='id')\n",
    "df_results.head()"
   ]
  },
  {
   "cell_type": "code",
   "execution_count": 109,
   "id": "ebc4141b",
   "metadata": {
    "ExecuteTime": {
     "end_time": "2022-11-24T10:32:28.861253Z",
     "start_time": "2022-11-24T10:32:28.850505Z"
    }
   },
   "outputs": [
    {
     "data": {
      "text/html": [
       "<div>\n",
       "<style scoped>\n",
       "    .dataframe tbody tr th:only-of-type {\n",
       "        vertical-align: middle;\n",
       "    }\n",
       "\n",
       "    .dataframe tbody tr th {\n",
       "        vertical-align: top;\n",
       "    }\n",
       "\n",
       "    .dataframe thead th {\n",
       "        text-align: right;\n",
       "    }\n",
       "</style>\n",
       "<table border=\"1\" class=\"dataframe\">\n",
       "  <thead>\n",
       "    <tr style=\"text-align: right;\">\n",
       "      <th></th>\n",
       "      <th>SalePrice</th>\n",
       "    </tr>\n",
       "  </thead>\n",
       "  <tbody>\n",
       "    <tr>\n",
       "      <th>1461</th>\n",
       "      <td>169000.9876</td>\n",
       "    </tr>\n",
       "    <tr>\n",
       "      <th>1462</th>\n",
       "      <td>187724.1233</td>\n",
       "    </tr>\n",
       "    <tr>\n",
       "      <th>1463</th>\n",
       "      <td>187724.1233</td>\n",
       "    </tr>\n",
       "  </tbody>\n",
       "</table>\n",
       "</div>"
      ],
      "text/plain": [
       "        SalePrice\n",
       "1461  169000.9876\n",
       "1462  187724.1233\n",
       "1463  187724.1233"
      ]
     },
     "execution_count": 109,
     "metadata": {},
     "output_type": "execute_result"
    }
   ],
   "source": [
    "# Save your predictions\n",
    "#df_results = pd.DataFrame(index=[1461,1462,1463],data={'SalePrice':[169000.9876,187724.1233,187724.1233]})\n",
    "#df_results.to_csv(\"results.csv\", index_label='id')\n",
    "#df_results.head()"
   ]
  },
  {
   "cell_type": "code",
   "execution_count": null,
   "id": "a32de1fc",
   "metadata": {},
   "outputs": [],
   "source": []
  }
 ],
 "metadata": {
  "kernelspec": {
   "display_name": "Python 3 (ipykernel)",
   "language": "python",
   "name": "python3"
  },
  "language_info": {
   "codemirror_mode": {
    "name": "ipython",
    "version": 3
   },
   "file_extension": ".py",
   "mimetype": "text/x-python",
   "name": "python",
   "nbconvert_exporter": "python",
   "pygments_lexer": "ipython3",
   "version": "3.9.12"
  },
  "latex_envs": {
   "LaTeX_envs_menu_present": true,
   "autoclose": true,
   "autocomplete": true,
   "bibliofile": "biblio.bib",
   "cite_by": "apalike",
   "current_citInitial": 1,
   "eqLabelWithNumbers": true,
   "eqNumInitial": 1,
   "hotkeys": {
    "equation": "Ctrl-E",
    "itemize": "Ctrl-I"
   },
   "labels_anchors": false,
   "latex_user_defs": false,
   "report_style_numbering": false,
   "user_envs_cfg": false
  },
  "nbTranslate": {
   "displayLangs": [
    "*"
   ],
   "hotkey": "alt-t",
   "langInMainMenu": true,
   "sourceLang": "en",
   "targetLang": "fr",
   "useGoogleTranslate": true
  }
 },
 "nbformat": 4,
 "nbformat_minor": 5
}
